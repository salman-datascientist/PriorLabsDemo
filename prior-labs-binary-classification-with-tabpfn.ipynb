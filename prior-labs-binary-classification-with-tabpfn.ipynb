{
 "cells": [
  {
   "cell_type": "markdown",
   "id": "ea3e7953",
   "metadata": {
    "_cell_guid": "b1076dfc-b9ad-4769-8c92-a6c4dae69d19",
    "_uuid": "8f2839f25d086af736a60e9eeb907d3b93b6e0e5",
    "papermill": {
     "duration": 0.005054,
     "end_time": "2025-10-16T08:13:21.498184",
     "exception": false,
     "start_time": "2025-10-16T08:13:21.493130",
     "status": "completed"
    },
    "tags": []
   },
   "source": [
    "# [TabPFN](https://github.com/PriorLabs/TabPFN): Binary classification using the [Bank Marketing Dataset](https://www.kaggle.com/datasets/sushant097/bank-marketing-dataset-full)\n",
    "Written by [Carl McBride Ellis](https://www.linkedin.com/in/carl-mcbride-ellis/) for **[Prior Labs](https://priorlabs.ai/)** <br>\n",
    "Dataset credit: [Sushant Gautam](https://www.kaggle.com/sushant097) <br>\n",
    "\n",
    "### Introduction\n",
    "In this first webinar (YouTube video: **[TabPFN in Action: a Practical Workshop](https://www.youtube.com/watch?v=3hTm1I1vig0)**) we shall see how simple it is to use the most basic 'vanilla' version of TabPFN. We shall perform a classification task on\n",
    "a dataset that was used as the basis of the recent Kaggle [Binary Classification with a Bank Dataset](https://www.kaggle.com/competitions/playground-series-s5e8/data) competition. We shall compare side-by-side our results with those of the default CatBoost classifier.\n",
    "\n",
    "The user defined helper functions are hidden just below; click to show the hidden code."
   ]
  },
  {
   "cell_type": "code",
   "execution_count": 1,
   "id": "bd64c6d7",
   "metadata": {
    "_kg_hide-input": true,
    "execution": {
     "iopub.execute_input": "2025-10-16T08:13:21.507475Z",
     "iopub.status.busy": "2025-10-16T08:13:21.507223Z",
     "iopub.status.idle": "2025-10-16T08:13:24.946008Z",
     "shell.execute_reply": "2025-10-16T08:13:24.945423Z"
    },
    "papermill": {
     "duration": 3.445198,
     "end_time": "2025-10-16T08:13:24.947420",
     "exception": false,
     "start_time": "2025-10-16T08:13:21.502222",
     "status": "completed"
    },
    "tags": []
   },
   "outputs": [],
   "source": [
    "import pandas as pd\n",
    "pd.set_option('display.max_columns', None)\n",
    "pd.set_option('display.max_rows', 36)\n",
    "pd.set_option(\"display.max_colwidth\", 72)\n",
    "\n",
    "import numpy as np\n",
    "\n",
    "import matplotlib.pyplot as plt\n",
    "plt.rcParams.update({'font.size': 22})\n",
    "plt.rcParams[\"figure.figsize\"] = (16, 5)\n",
    "plt.style.use('fivethirtyeight')\n",
    "mono_font = {'fontname':'monospace'}\n",
    "\n",
    "import seaborn as sns\n",
    "sns.set(font_scale=1.2)\n",
    "\n",
    "#-------------------------------------------------------\n",
    "# source: https://gist.github.com/Carl-McBride-Ellis/74ecb851fa06502c17cf14e8af8c08c6\n",
    "\n",
    "def undersample_df(df, target, seed=42):\n",
    "    \"\"\"Undersample a (binary class) pandas dataframe (df), shuffle, and return X and y\"\"\"\n",
    "    label, count = np.unique(df[target], return_counts=True)\n",
    "    most_frequent_class = label[np.argmax(count)]\n",
    "    # sample ALL of the minority class data\n",
    "    df_class_1 = df.loc[df[target] != most_frequent_class]\n",
    "    # randomly sample the majority class data\n",
    "    df_class_0 = df.loc[df[target] == most_frequent_class].sample(n = len(df_class_1), random_state=seed)\n",
    "    # now randomly shuffle this new dataset\n",
    "    X = pd.concat([df_class_0, df_class_1]).sample(frac=1, random_state=seed).reset_index(drop=True)\n",
    "    y = X.pop(target)\n",
    "    \n",
    "    return X, y\n",
    "    \n",
    "#-------------------------------------------------------\n",
    "# source: https://gist.github.com/Carl-McBride-Ellis/96d7bceed6bb42918152fa79f59b8be4\n",
    "\n",
    "def BCAS(y_validation, y_pred):\n",
    "    \"\"\"Baseline corrected accuracy score (BCAS).\n",
    "       y_validation: contains the ground truth labels\n",
    "       y_pred: contains the predicted labels\n",
    "    \"\"\"\n",
    "    label, count = np.unique(y_validation, return_counts=True)\n",
    "    most_frequent_class = label[np.argmax(count)]\n",
    "    y_baseline = np.full(len(y_validation), most_frequent_class)\n",
    "    as_baseline = np.mean(y_validation == y_baseline)\n",
    "    as_predicted = np.mean(y_validation == y_pred)\n",
    "\n",
    "    return (as_predicted - as_baseline)\n",
    "\n",
    "#-------------------------------------------------------\n",
    "\n",
    "from sklearn.model_selection import StratifiedKFold\n",
    "def cross_validation(X, y, estimator, n=5, seed=42):\n",
    "\n",
    "    kf = StratifiedKFold(n_splits=n, shuffle=True, random_state=seed)\n",
    "    OOF_predictions = [] # save predictions for each fold\n",
    "    OOF_probabilities = [] # save probabilities for each fold\n",
    "\n",
    "    for train_index, validation_index in kf.split(X, y):\n",
    "\n",
    "        X_train = X.iloc[train_index]\n",
    "        X_validation = X.iloc[validation_index]\n",
    "\n",
    "        y_train = y.iloc[train_index]\n",
    "        y_validation = y.iloc[validation_index]\n",
    "\n",
    "        # fit\n",
    "        estimator.fit(X_train, y_train)\n",
    "\n",
    "        # predict\n",
    "        y_pred = estimator.predict(X_validation)\n",
    "        y_pred_proba = estimator.predict_proba(X_validation)[:,1]\n",
    "\n",
    "        # save the predictions for this fold\n",
    "        preds_df = pd.DataFrame(validation_index, columns=[\"idx\"])\n",
    "        preds_df[\"y_pred\"] = y_pred\n",
    "        OOF_predictions.append( preds_df )\n",
    "\n",
    "        probs_df = pd.DataFrame(validation_index, columns=[\"idx\"])\n",
    "        probs_df[\"y_pred_proba\"] = y_pred_proba\n",
    "        OOF_probabilities.append( probs_df )\n",
    "    \n",
    "    # stitch all the OOF predictions together\n",
    "    df_y_pred = pd.concat(OOF_predictions).sort_values(by=[\"idx\"]).set_index(\"idx\")\n",
    "    df_y_prob = pd.concat(OOF_probabilities).sort_values(by=[\"idx\"]).set_index(\"idx\")\n",
    "\n",
    "    return df_y_pred, df_y_prob\n",
    "\n",
    "#-------------------------------------------------------\n",
    "\n",
    "# classification metrics we shall use\n",
    "from sklearn.metrics import confusion_matrix\n",
    "from sklearn.metrics import accuracy_score, matthews_corrcoef\n",
    "from sklearn.metrics import log_loss, brier_score_loss, roc_auc_score\n",
    "\n",
    "def classifier_report(y, y_pred, y_pred_proba, decimals = 4):\n",
    "    \n",
    "    y_baseline = np.zeros( len(y) ) # assume majority class is 0\n",
    "    BAS = accuracy_score(y, y_baseline)\n",
    "    y_train_mean = np.full( len(y), np.mean(y) )\n",
    "    log_loss_baseline = log_loss(y, y_train_mean)\n",
    "    Brier_score_baseline = brier_score_loss(y, y_train_mean)\n",
    "    #---------------------------------------------------------\n",
    "    CV_score_accuracy = accuracy_score(y, y_pred)\n",
    "    CV_score_matthews_corrcoef = matthews_corrcoef(y, y_pred)\n",
    "    score_BCAS = BCAS(y.values, y_pred.values.reshape(-1))\n",
    "    \n",
    "    CV_score_brier_score = brier_score_loss(y, y_pred_proba)\n",
    "    CV_score_log_loss = log_loss(y, y_pred_proba)\n",
    "    CV_score_roc_auc_score = roc_auc_score(y, y_pred_proba)\n",
    "    \n",
    "    print(\"Baseline accuracy score           \", round( BAS , decimals) )\n",
    "    print(\"Baseline ROC AUC score             0.5\")\n",
    "    print(\"Baseline Matthews correlation      0\")\n",
    "    print(\"Baseline log loss                 \", round( log_loss_baseline , decimals) )\n",
    "    print(\"Baseline Brier score              \", round( Brier_score_baseline , decimals) )\n",
    "    print(\"----------------------------------\")\n",
    "    print(\"Accuracy score                    \", round( CV_score_accuracy , decimals) )\n",
    "    print(\"Baseline corrected accuracy score \", round( score_BCAS , decimals) )\n",
    "    print(\"Matthews correlation              \", round( CV_score_matthews_corrcoef , decimals) )\n",
    "    print(\"ROC AUC score                     \", round( CV_score_roc_auc_score , decimals) )\n",
    "    print()\n",
    "    print(\"Note: For both log loss and the Brier the score the smaller the better:\")\n",
    "    print()\n",
    "    print(\"Log loss                          \", round( CV_score_log_loss , decimals) )\n",
    "    print(\"Brier score                       \", round( CV_score_brier_score , decimals) )\n",
    "    print()\n",
    "    print(\"Confusion matrix:\")\n",
    "    tn, fp, fn, tp = confusion_matrix(y , y_pred).ravel()\n",
    "    #print(\"TN\",tn,\"\\nFP\",fp,\"\\nFN\",fn,\"\\nTP\",tp)\n",
    "    cm = confusion_matrix(y, y_pred)\n",
    "    fig, ax = plt.subplots(figsize=(3,3))\n",
    "    sns.heatmap(cm, cmap=\"YlOrBr\", annot=True, fmt=\"g\", linewidths=1, linecolor='black')\n",
    "    ax.set(xlabel='Predicted label', ylabel='True label');\n",
    "    print()\n",
    "    \n",
    "    return "
   ]
  },
  {
   "cell_type": "markdown",
   "id": "8ecc9cd7",
   "metadata": {
    "papermill": {
     "duration": 0.003696,
     "end_time": "2025-10-16T08:13:24.955374",
     "exception": false,
     "start_time": "2025-10-16T08:13:24.951678",
     "status": "completed"
    },
    "tags": []
   },
   "source": [
    "Read in and take a look at the dataset"
   ]
  },
  {
   "cell_type": "code",
   "execution_count": 2,
   "id": "a12c6ca3",
   "metadata": {
    "execution": {
     "iopub.execute_input": "2025-10-16T08:13:24.964425Z",
     "iopub.status.busy": "2025-10-16T08:13:24.963859Z",
     "iopub.status.idle": "2025-10-16T08:13:25.152894Z",
     "shell.execute_reply": "2025-10-16T08:13:25.152053Z"
    },
    "papermill": {
     "duration": 0.194864,
     "end_time": "2025-10-16T08:13:25.154157",
     "exception": false,
     "start_time": "2025-10-16T08:13:24.959293",
     "status": "completed"
    },
    "tags": []
   },
   "outputs": [
    {
     "data": {
      "text/html": [
       "<div>\n",
       "<style scoped>\n",
       "    .dataframe tbody tr th:only-of-type {\n",
       "        vertical-align: middle;\n",
       "    }\n",
       "\n",
       "    .dataframe tbody tr th {\n",
       "        vertical-align: top;\n",
       "    }\n",
       "\n",
       "    .dataframe thead th {\n",
       "        text-align: right;\n",
       "    }\n",
       "</style>\n",
       "<table border=\"1\" class=\"dataframe\">\n",
       "  <thead>\n",
       "    <tr style=\"text-align: right;\">\n",
       "      <th></th>\n",
       "      <th>age</th>\n",
       "      <th>job</th>\n",
       "      <th>marital</th>\n",
       "      <th>education</th>\n",
       "      <th>default</th>\n",
       "      <th>balance</th>\n",
       "      <th>housing</th>\n",
       "      <th>loan</th>\n",
       "      <th>contact</th>\n",
       "      <th>day</th>\n",
       "      <th>month</th>\n",
       "      <th>duration</th>\n",
       "      <th>campaign</th>\n",
       "      <th>pdays</th>\n",
       "      <th>previous</th>\n",
       "      <th>poutcome</th>\n",
       "      <th>y</th>\n",
       "    </tr>\n",
       "  </thead>\n",
       "  <tbody>\n",
       "    <tr>\n",
       "      <th>0</th>\n",
       "      <td>58</td>\n",
       "      <td>management</td>\n",
       "      <td>married</td>\n",
       "      <td>tertiary</td>\n",
       "      <td>no</td>\n",
       "      <td>2143</td>\n",
       "      <td>yes</td>\n",
       "      <td>no</td>\n",
       "      <td>unknown</td>\n",
       "      <td>5</td>\n",
       "      <td>may</td>\n",
       "      <td>261</td>\n",
       "      <td>1</td>\n",
       "      <td>-1</td>\n",
       "      <td>0</td>\n",
       "      <td>unknown</td>\n",
       "      <td>no</td>\n",
       "    </tr>\n",
       "    <tr>\n",
       "      <th>1</th>\n",
       "      <td>44</td>\n",
       "      <td>technician</td>\n",
       "      <td>single</td>\n",
       "      <td>secondary</td>\n",
       "      <td>no</td>\n",
       "      <td>29</td>\n",
       "      <td>yes</td>\n",
       "      <td>no</td>\n",
       "      <td>unknown</td>\n",
       "      <td>5</td>\n",
       "      <td>may</td>\n",
       "      <td>151</td>\n",
       "      <td>1</td>\n",
       "      <td>-1</td>\n",
       "      <td>0</td>\n",
       "      <td>unknown</td>\n",
       "      <td>no</td>\n",
       "    </tr>\n",
       "    <tr>\n",
       "      <th>2</th>\n",
       "      <td>33</td>\n",
       "      <td>entrepreneur</td>\n",
       "      <td>married</td>\n",
       "      <td>secondary</td>\n",
       "      <td>no</td>\n",
       "      <td>2</td>\n",
       "      <td>yes</td>\n",
       "      <td>yes</td>\n",
       "      <td>unknown</td>\n",
       "      <td>5</td>\n",
       "      <td>may</td>\n",
       "      <td>76</td>\n",
       "      <td>1</td>\n",
       "      <td>-1</td>\n",
       "      <td>0</td>\n",
       "      <td>unknown</td>\n",
       "      <td>no</td>\n",
       "    </tr>\n",
       "    <tr>\n",
       "      <th>3</th>\n",
       "      <td>47</td>\n",
       "      <td>blue-collar</td>\n",
       "      <td>married</td>\n",
       "      <td>unknown</td>\n",
       "      <td>no</td>\n",
       "      <td>1506</td>\n",
       "      <td>yes</td>\n",
       "      <td>no</td>\n",
       "      <td>unknown</td>\n",
       "      <td>5</td>\n",
       "      <td>may</td>\n",
       "      <td>92</td>\n",
       "      <td>1</td>\n",
       "      <td>-1</td>\n",
       "      <td>0</td>\n",
       "      <td>unknown</td>\n",
       "      <td>no</td>\n",
       "    </tr>\n",
       "    <tr>\n",
       "      <th>4</th>\n",
       "      <td>33</td>\n",
       "      <td>unknown</td>\n",
       "      <td>single</td>\n",
       "      <td>unknown</td>\n",
       "      <td>no</td>\n",
       "      <td>1</td>\n",
       "      <td>no</td>\n",
       "      <td>no</td>\n",
       "      <td>unknown</td>\n",
       "      <td>5</td>\n",
       "      <td>may</td>\n",
       "      <td>198</td>\n",
       "      <td>1</td>\n",
       "      <td>-1</td>\n",
       "      <td>0</td>\n",
       "      <td>unknown</td>\n",
       "      <td>no</td>\n",
       "    </tr>\n",
       "    <tr>\n",
       "      <th>...</th>\n",
       "      <td>...</td>\n",
       "      <td>...</td>\n",
       "      <td>...</td>\n",
       "      <td>...</td>\n",
       "      <td>...</td>\n",
       "      <td>...</td>\n",
       "      <td>...</td>\n",
       "      <td>...</td>\n",
       "      <td>...</td>\n",
       "      <td>...</td>\n",
       "      <td>...</td>\n",
       "      <td>...</td>\n",
       "      <td>...</td>\n",
       "      <td>...</td>\n",
       "      <td>...</td>\n",
       "      <td>...</td>\n",
       "      <td>...</td>\n",
       "    </tr>\n",
       "    <tr>\n",
       "      <th>45206</th>\n",
       "      <td>51</td>\n",
       "      <td>technician</td>\n",
       "      <td>married</td>\n",
       "      <td>tertiary</td>\n",
       "      <td>no</td>\n",
       "      <td>825</td>\n",
       "      <td>no</td>\n",
       "      <td>no</td>\n",
       "      <td>cellular</td>\n",
       "      <td>17</td>\n",
       "      <td>nov</td>\n",
       "      <td>977</td>\n",
       "      <td>3</td>\n",
       "      <td>-1</td>\n",
       "      <td>0</td>\n",
       "      <td>unknown</td>\n",
       "      <td>yes</td>\n",
       "    </tr>\n",
       "    <tr>\n",
       "      <th>45207</th>\n",
       "      <td>71</td>\n",
       "      <td>retired</td>\n",
       "      <td>divorced</td>\n",
       "      <td>primary</td>\n",
       "      <td>no</td>\n",
       "      <td>1729</td>\n",
       "      <td>no</td>\n",
       "      <td>no</td>\n",
       "      <td>cellular</td>\n",
       "      <td>17</td>\n",
       "      <td>nov</td>\n",
       "      <td>456</td>\n",
       "      <td>2</td>\n",
       "      <td>-1</td>\n",
       "      <td>0</td>\n",
       "      <td>unknown</td>\n",
       "      <td>yes</td>\n",
       "    </tr>\n",
       "    <tr>\n",
       "      <th>45208</th>\n",
       "      <td>72</td>\n",
       "      <td>retired</td>\n",
       "      <td>married</td>\n",
       "      <td>secondary</td>\n",
       "      <td>no</td>\n",
       "      <td>5715</td>\n",
       "      <td>no</td>\n",
       "      <td>no</td>\n",
       "      <td>cellular</td>\n",
       "      <td>17</td>\n",
       "      <td>nov</td>\n",
       "      <td>1127</td>\n",
       "      <td>5</td>\n",
       "      <td>184</td>\n",
       "      <td>3</td>\n",
       "      <td>success</td>\n",
       "      <td>yes</td>\n",
       "    </tr>\n",
       "    <tr>\n",
       "      <th>45209</th>\n",
       "      <td>57</td>\n",
       "      <td>blue-collar</td>\n",
       "      <td>married</td>\n",
       "      <td>secondary</td>\n",
       "      <td>no</td>\n",
       "      <td>668</td>\n",
       "      <td>no</td>\n",
       "      <td>no</td>\n",
       "      <td>telephone</td>\n",
       "      <td>17</td>\n",
       "      <td>nov</td>\n",
       "      <td>508</td>\n",
       "      <td>4</td>\n",
       "      <td>-1</td>\n",
       "      <td>0</td>\n",
       "      <td>unknown</td>\n",
       "      <td>no</td>\n",
       "    </tr>\n",
       "    <tr>\n",
       "      <th>45210</th>\n",
       "      <td>37</td>\n",
       "      <td>entrepreneur</td>\n",
       "      <td>married</td>\n",
       "      <td>secondary</td>\n",
       "      <td>no</td>\n",
       "      <td>2971</td>\n",
       "      <td>no</td>\n",
       "      <td>no</td>\n",
       "      <td>cellular</td>\n",
       "      <td>17</td>\n",
       "      <td>nov</td>\n",
       "      <td>361</td>\n",
       "      <td>2</td>\n",
       "      <td>188</td>\n",
       "      <td>11</td>\n",
       "      <td>other</td>\n",
       "      <td>no</td>\n",
       "    </tr>\n",
       "  </tbody>\n",
       "</table>\n",
       "<p>45211 rows × 17 columns</p>\n",
       "</div>"
      ],
      "text/plain": [
       "       age           job   marital  education default  balance housing loan  \\\n",
       "0       58    management   married   tertiary      no     2143     yes   no   \n",
       "1       44    technician    single  secondary      no       29     yes   no   \n",
       "2       33  entrepreneur   married  secondary      no        2     yes  yes   \n",
       "3       47   blue-collar   married    unknown      no     1506     yes   no   \n",
       "4       33       unknown    single    unknown      no        1      no   no   \n",
       "...    ...           ...       ...        ...     ...      ...     ...  ...   \n",
       "45206   51    technician   married   tertiary      no      825      no   no   \n",
       "45207   71       retired  divorced    primary      no     1729      no   no   \n",
       "45208   72       retired   married  secondary      no     5715      no   no   \n",
       "45209   57   blue-collar   married  secondary      no      668      no   no   \n",
       "45210   37  entrepreneur   married  secondary      no     2971      no   no   \n",
       "\n",
       "         contact  day month  duration  campaign  pdays  previous poutcome    y  \n",
       "0        unknown    5   may       261         1     -1         0  unknown   no  \n",
       "1        unknown    5   may       151         1     -1         0  unknown   no  \n",
       "2        unknown    5   may        76         1     -1         0  unknown   no  \n",
       "3        unknown    5   may        92         1     -1         0  unknown   no  \n",
       "4        unknown    5   may       198         1     -1         0  unknown   no  \n",
       "...          ...  ...   ...       ...       ...    ...       ...      ...  ...  \n",
       "45206   cellular   17   nov       977         3     -1         0  unknown  yes  \n",
       "45207   cellular   17   nov       456         2     -1         0  unknown  yes  \n",
       "45208   cellular   17   nov      1127         5    184         3  success  yes  \n",
       "45209  telephone   17   nov       508         4     -1         0  unknown   no  \n",
       "45210   cellular   17   nov       361         2    188        11    other   no  \n",
       "\n",
       "[45211 rows x 17 columns]"
      ]
     },
     "execution_count": 2,
     "metadata": {},
     "output_type": "execute_result"
    }
   ],
   "source": [
    "df = pd.read_csv(\"/kaggle/input/bank-marketing-dataset-full/bank-full.csv\", delimiter=\";\")\n",
    "df"
   ]
  },
  {
   "cell_type": "code",
   "execution_count": 3,
   "id": "4fa1f238",
   "metadata": {
    "execution": {
     "iopub.execute_input": "2025-10-16T08:13:25.163657Z",
     "iopub.status.busy": "2025-10-16T08:13:25.163454Z",
     "iopub.status.idle": "2025-10-16T08:13:25.178008Z",
     "shell.execute_reply": "2025-10-16T08:13:25.177082Z"
    },
    "papermill": {
     "duration": 0.020484,
     "end_time": "2025-10-16T08:13:25.179122",
     "exception": false,
     "start_time": "2025-10-16T08:13:25.158638",
     "status": "completed"
    },
    "tags": []
   },
   "outputs": [
    {
     "name": "stdout",
     "output_type": "stream",
     "text": [
      "y\n",
      "no     39922\n",
      "yes     5289\n",
      "Name: count, dtype: int64\n",
      "y\n",
      "no     0.883015\n",
      "yes    0.116985\n",
      "Name: proportion, dtype: float64\n"
     ]
    }
   ],
   "source": [
    "target = \"y\"\n",
    "\n",
    "print(df[target].value_counts(normalize=False))\n",
    "print(df[target].value_counts(normalize=True))"
   ]
  },
  {
   "cell_type": "markdown",
   "id": "371a3962",
   "metadata": {
    "papermill": {
     "duration": 0.004082,
     "end_time": "2025-10-16T08:13:25.187549",
     "exception": false,
     "start_time": "2025-10-16T08:13:25.183467",
     "status": "completed"
    },
    "tags": []
   },
   "source": [
    "Binarize the target to facilitate the metrics calculations"
   ]
  },
  {
   "cell_type": "code",
   "execution_count": 4,
   "id": "935f3fd8",
   "metadata": {
    "execution": {
     "iopub.execute_input": "2025-10-16T08:13:25.197070Z",
     "iopub.status.busy": "2025-10-16T08:13:25.196859Z",
     "iopub.status.idle": "2025-10-16T08:13:25.205985Z",
     "shell.execute_reply": "2025-10-16T08:13:25.205399Z"
    },
    "papermill": {
     "duration": 0.015157,
     "end_time": "2025-10-16T08:13:25.206971",
     "exception": false,
     "start_time": "2025-10-16T08:13:25.191814",
     "status": "completed"
    },
    "tags": []
   },
   "outputs": [],
   "source": [
    "df[target] = df[target].map({\"no\":0,\"yes\":1})"
   ]
  },
  {
   "cell_type": "markdown",
   "id": "0063aa1b",
   "metadata": {
    "papermill": {
     "duration": 0.003957,
     "end_time": "2025-10-16T08:13:25.214971",
     "exception": false,
     "start_time": "2025-10-16T08:13:25.211014",
     "status": "completed"
    },
    "tags": []
   },
   "source": [
    "Both TabPFN and CatBoost have native support for `NaN`."
   ]
  },
  {
   "cell_type": "code",
   "execution_count": 5,
   "id": "90452a78",
   "metadata": {
    "execution": {
     "iopub.execute_input": "2025-10-16T08:13:25.223675Z",
     "iopub.status.busy": "2025-10-16T08:13:25.223468Z",
     "iopub.status.idle": "2025-10-16T08:13:25.249110Z",
     "shell.execute_reply": "2025-10-16T08:13:25.248375Z"
    },
    "papermill": {
     "duration": 0.031386,
     "end_time": "2025-10-16T08:13:25.250323",
     "exception": false,
     "start_time": "2025-10-16T08:13:25.218937",
     "status": "completed"
    },
    "tags": []
   },
   "outputs": [
    {
     "data": {
      "text/plain": [
       "0"
      ]
     },
     "execution_count": 5,
     "metadata": {},
     "output_type": "execute_result"
    }
   ],
   "source": [
    "df.isna().sum().sum()"
   ]
  },
  {
   "cell_type": "markdown",
   "id": "91a66fda",
   "metadata": {
    "papermill": {
     "duration": 0.004061,
     "end_time": "2025-10-16T08:13:25.258769",
     "exception": false,
     "start_time": "2025-10-16T08:13:25.254708",
     "status": "completed"
    },
    "tags": []
   },
   "source": [
    "We see here that on this occasion we do not have any `NaN`.\n",
    "\n",
    "We shall quickly inspect the categorical features. Note that neither TabPFN nor CatBoost have a need for any categorical encoding of the features. "
   ]
  },
  {
   "cell_type": "code",
   "execution_count": 6,
   "id": "7d353aee",
   "metadata": {
    "execution": {
     "iopub.execute_input": "2025-10-16T08:13:25.267964Z",
     "iopub.status.busy": "2025-10-16T08:13:25.267684Z",
     "iopub.status.idle": "2025-10-16T08:13:25.273444Z",
     "shell.execute_reply": "2025-10-16T08:13:25.272687Z"
    },
    "papermill": {
     "duration": 0.011471,
     "end_time": "2025-10-16T08:13:25.274487",
     "exception": false,
     "start_time": "2025-10-16T08:13:25.263016",
     "status": "completed"
    },
    "tags": []
   },
   "outputs": [
    {
     "data": {
      "text/plain": [
       "age           int64\n",
       "job          object\n",
       "marital      object\n",
       "education    object\n",
       "default      object\n",
       "balance       int64\n",
       "housing      object\n",
       "loan         object\n",
       "contact      object\n",
       "day           int64\n",
       "month        object\n",
       "duration      int64\n",
       "campaign      int64\n",
       "pdays         int64\n",
       "previous      int64\n",
       "poutcome     object\n",
       "y             int64\n",
       "dtype: object"
      ]
     },
     "execution_count": 6,
     "metadata": {},
     "output_type": "execute_result"
    }
   ],
   "source": [
    "df.dtypes"
   ]
  },
  {
   "cell_type": "code",
   "execution_count": 7,
   "id": "c7a94e99",
   "metadata": {
    "execution": {
     "iopub.execute_input": "2025-10-16T08:13:25.283677Z",
     "iopub.status.busy": "2025-10-16T08:13:25.283481Z",
     "iopub.status.idle": "2025-10-16T08:13:25.319110Z",
     "shell.execute_reply": "2025-10-16T08:13:25.318238Z"
    },
    "papermill": {
     "duration": 0.041432,
     "end_time": "2025-10-16T08:13:25.320248",
     "exception": false,
     "start_time": "2025-10-16T08:13:25.278816",
     "status": "completed"
    },
    "tags": []
   },
   "outputs": [
    {
     "name": "stdout",
     "output_type": "stream",
     "text": [
      "job\n",
      "blue-collar      9732\n",
      "management       9458\n",
      "technician       7597\n",
      "admin.           5171\n",
      "services         4154\n",
      "retired          2264\n",
      "self-employed    1579\n",
      "entrepreneur     1487\n",
      "unemployed       1303\n",
      "housemaid        1240\n",
      "student           938\n",
      "unknown           288\n",
      "Name: count, dtype: int64\n",
      "-----------------\n",
      "marital\n",
      "married     27214\n",
      "single      12790\n",
      "divorced     5207\n",
      "Name: count, dtype: int64\n",
      "-----------------\n",
      "education\n",
      "secondary    23202\n",
      "tertiary     13301\n",
      "primary       6851\n",
      "unknown       1857\n",
      "Name: count, dtype: int64\n",
      "-----------------\n",
      "default\n",
      "no     44396\n",
      "yes      815\n",
      "Name: count, dtype: int64\n",
      "-----------------\n",
      "housing\n",
      "yes    25130\n",
      "no     20081\n",
      "Name: count, dtype: int64\n",
      "-----------------\n",
      "loan\n",
      "no     37967\n",
      "yes     7244\n",
      "Name: count, dtype: int64\n",
      "-----------------\n",
      "contact\n",
      "cellular     29285\n",
      "unknown      13020\n",
      "telephone     2906\n",
      "Name: count, dtype: int64\n",
      "-----------------\n",
      "month\n",
      "may    13766\n",
      "jul     6895\n",
      "aug     6247\n",
      "jun     5341\n",
      "nov     3970\n",
      "apr     2932\n",
      "feb     2649\n",
      "jan     1403\n",
      "oct      738\n",
      "sep      579\n",
      "mar      477\n",
      "dec      214\n",
      "Name: count, dtype: int64\n",
      "-----------------\n",
      "poutcome\n",
      "unknown    36959\n",
      "failure     4901\n",
      "other       1840\n",
      "success     1511\n",
      "Name: count, dtype: int64\n",
      "-----------------\n"
     ]
    }
   ],
   "source": [
    "cat_features = list(df.select_dtypes(['object']).columns) # for CatBoost\n",
    "\n",
    "for cat_feature in cat_features:\n",
    "    print(df[cat_feature].value_counts())\n",
    "    print(\"-----------------\")"
   ]
  },
  {
   "cell_type": "markdown",
   "id": "74dfe13f",
   "metadata": {
    "papermill": {
     "duration": 0.004213,
     "end_time": "2025-10-16T08:13:25.329135",
     "exception": false,
     "start_time": "2025-10-16T08:13:25.324922",
     "status": "completed"
    },
    "tags": []
   },
   "source": [
    "For this exercise we shall use a balanced dataset obtained via undersampling of the majority class, and we shall \n",
    "then set aside 2K rows of the data for a later inspection of how well the models are calibrated"
   ]
  },
  {
   "cell_type": "code",
   "execution_count": 8,
   "id": "c023fb33",
   "metadata": {
    "execution": {
     "iopub.execute_input": "2025-10-16T08:13:25.338900Z",
     "iopub.status.busy": "2025-10-16T08:13:25.338653Z",
     "iopub.status.idle": "2025-10-16T08:13:25.371000Z",
     "shell.execute_reply": "2025-10-16T08:13:25.370151Z"
    },
    "papermill": {
     "duration": 0.038378,
     "end_time": "2025-10-16T08:13:25.372092",
     "exception": false,
     "start_time": "2025-10-16T08:13:25.333714",
     "status": "completed"
    },
    "tags": []
   },
   "outputs": [
    {
     "name": "stdout",
     "output_type": "stream",
     "text": [
      "(8578, 16)\n",
      "y\n",
      "0    4289\n",
      "1    4289\n",
      "Name: count, dtype: int64\n"
     ]
    }
   ],
   "source": [
    "X, y = undersample_df( df, target )\n",
    "\n",
    "from sklearn.model_selection import train_test_split\n",
    "X, X_calibration, y, y_calibration = train_test_split(X, y, test_size=2000, random_state=42, stratify=y)\n",
    "\n",
    "print(X.shape)\n",
    "print(y.value_counts())"
   ]
  },
  {
   "cell_type": "markdown",
   "id": "a754e8c0",
   "metadata": {
    "papermill": {
     "duration": 0.004287,
     "end_time": "2025-10-16T08:13:25.380868",
     "exception": false,
     "start_time": "2025-10-16T08:13:25.376581",
     "status": "completed"
    },
    "tags": []
   },
   "source": [
    "# Comparison between CatBoost and TabPFN\n",
    "### CatBoost"
   ]
  },
  {
   "cell_type": "code",
   "execution_count": 9,
   "id": "896747ee",
   "metadata": {
    "execution": {
     "iopub.execute_input": "2025-10-16T08:13:25.390619Z",
     "iopub.status.busy": "2025-10-16T08:13:25.390018Z",
     "iopub.status.idle": "2025-10-16T08:13:28.472467Z",
     "shell.execute_reply": "2025-10-16T08:13:28.471613Z"
    },
    "papermill": {
     "duration": 3.089478,
     "end_time": "2025-10-16T08:13:28.474526",
     "exception": false,
     "start_time": "2025-10-16T08:13:25.385048",
     "status": "completed"
    },
    "tags": []
   },
   "outputs": [
    {
     "name": "stdout",
     "output_type": "stream",
     "text": [
      "catboost==1.2.8\r\n"
     ]
    }
   ],
   "source": [
    "# display the version we are using\n",
    "!pip freeze | grep catboost"
   ]
  },
  {
   "cell_type": "code",
   "execution_count": 10,
   "id": "859adf0c",
   "metadata": {
    "execution": {
     "iopub.execute_input": "2025-10-16T08:13:28.486563Z",
     "iopub.status.busy": "2025-10-16T08:13:28.486290Z",
     "iopub.status.idle": "2025-10-16T08:14:14.021928Z",
     "shell.execute_reply": "2025-10-16T08:14:14.021119Z"
    },
    "papermill": {
     "duration": 45.542989,
     "end_time": "2025-10-16T08:14:14.023172",
     "exception": false,
     "start_time": "2025-10-16T08:13:28.480183",
     "status": "completed"
    },
    "tags": []
   },
   "outputs": [
    {
     "name": "stdout",
     "output_type": "stream",
     "text": [
      "Baseline accuracy score            0.5\n",
      "Baseline ROC AUC score             0.5\n",
      "Baseline Matthews correlation      0\n",
      "Baseline log loss                  0.6931\n",
      "Baseline Brier score               0.25\n",
      "----------------------------------\n",
      "Accuracy score                     0.8656\n",
      "Baseline corrected accuracy score  0.3656\n",
      "Matthews correlation               0.7326\n",
      "ROC AUC score                      0.9301\n",
      "\n",
      "Note: For both log loss and the Brier the score the smaller the better:\n",
      "\n",
      "Log loss                           0.325\n",
      "Brier score                        0.0997\n",
      "\n",
      "Confusion matrix:\n",
      "\n"
     ]
    },
    {
     "data": {
      "image/png": "[encoded data removed]",
      "text/plain": [
       "<Figure size 300x300 with 2 Axes>"
      ]
     },
     "metadata": {},
     "output_type": "display_data"
    }
   ],
   "source": [
    "from catboost import CatBoostClassifier\n",
    "\n",
    "CatBoostClassifier = CatBoostClassifier(silent=True, cat_features=cat_features)\n",
    "\n",
    "CatBoost_pred, CatBoost_prob = cross_validation(X, y, CatBoostClassifier)\n",
    "\n",
    "classifier_report(y, CatBoost_pred, CatBoost_prob)"
   ]
  },
  {
   "cell_type": "markdown",
   "id": "37df7bd7",
   "metadata": {
    "papermill": {
     "duration": 0.00457,
     "end_time": "2025-10-16T08:14:14.032779",
     "exception": false,
     "start_time": "2025-10-16T08:14:14.028209",
     "status": "completed"
    },
    "tags": []
   },
   "source": [
    "### TabPFN"
   ]
  },
  {
   "cell_type": "code",
   "execution_count": 11,
   "id": "aaaabbdf",
   "metadata": {
    "execution": {
     "iopub.execute_input": "2025-10-16T08:14:14.043327Z",
     "iopub.status.busy": "2025-10-16T08:14:14.043036Z",
     "iopub.status.idle": "2025-10-16T08:14:35.021382Z",
     "shell.execute_reply": "2025-10-16T08:14:35.020536Z"
    },
    "papermill": {
     "duration": 20.985454,
     "end_time": "2025-10-16T08:14:35.022854",
     "exception": false,
     "start_time": "2025-10-16T08:14:14.037400",
     "status": "completed"
    },
    "tags": []
   },
   "outputs": [
    {
     "name": "stdout",
     "output_type": "stream",
     "text": [
      "tabpfn==2.2.1\r\n",
      "tabpfn-common-utils==0.2.2\r\n"
     ]
    }
   ],
   "source": [
    "!uv pip install -q tabpfn\n",
    "# display the version we are using\n",
    "!pip freeze | grep tabpfn"
   ]
  },
  {
   "cell_type": "code",
   "execution_count": 12,
   "id": "ab64c002",
   "metadata": {
    "execution": {
     "iopub.execute_input": "2025-10-16T08:14:35.034355Z",
     "iopub.status.busy": "2025-10-16T08:14:35.033672Z",
     "iopub.status.idle": "2025-10-16T08:16:34.325159Z",
     "shell.execute_reply": "2025-10-16T08:16:34.324287Z"
    },
    "papermill": {
     "duration": 119.30355,
     "end_time": "2025-10-16T08:16:34.331652",
     "exception": false,
     "start_time": "2025-10-16T08:14:35.028102",
     "status": "completed"
    },
    "tags": []
   },
   "outputs": [
    {
     "data": {
      "application/vnd.jupyter.widget-view+json": {
       "model_id": "c104aaecb60d448bb146cb819ca5f2b8",
       "version_major": 2,
       "version_minor": 0
      },
      "text/plain": [
       "tabpfn-v2-classifier-finetuned-zk73skhh.(…):   0%|          | 0.00/29.0M [00:00<?, ?B/s]"
      ]
     },
     "metadata": {},
     "output_type": "display_data"
    },
    {
     "data": {
      "application/vnd.jupyter.widget-view+json": {
       "model_id": "175eee4812674824afdaeea884aae28b",
       "version_major": 2,
       "version_minor": 0
      },
      "text/plain": [
       "config.json:   0%|          | 0.00/37.0 [00:00<?, ?B/s]"
      ]
     },
     "metadata": {},
     "output_type": "display_data"
    },
    {
     "name": "stdout",
     "output_type": "stream",
     "text": [
      "Baseline accuracy score            0.5\n",
      "Baseline ROC AUC score             0.5\n",
      "Baseline Matthews correlation      0\n",
      "Baseline log loss                  0.6931\n",
      "Baseline Brier score               0.25\n",
      "----------------------------------\n",
      "Accuracy score                     0.8729\n",
      "Baseline corrected accuracy score  0.3729\n",
      "Matthews correlation               0.7487\n",
      "ROC AUC score                      0.9349\n",
      "\n",
      "Note: For both log loss and the Brier the score the smaller the better:\n",
      "\n",
      "Log loss                           0.3079\n",
      "Brier score                        0.0937\n",
      "\n",
      "Confusion matrix:\n",
      "\n"
     ]
    },
    {
     "data": {
      "image/png": "[encoded data removed]",
      "text/plain": [
       "<Figure size 300x300 with 2 Axes>"
      ]
     },
     "metadata": {},
     "output_type": "display_data"
    }
   ],
   "source": [
    "from tabpfn import TabPFNClassifier\n",
    "\n",
    "TabPFNClassifier = TabPFNClassifier()\n",
    "\n",
    "TabPFN_pred, TabPFN_prob = cross_validation(X, y, TabPFNClassifier)\n",
    "\n",
    "classifier_report(y, TabPFN_pred, TabPFN_prob)"
   ]
  },
  {
   "cell_type": "markdown",
   "id": "e9bfea62",
   "metadata": {
    "papermill": {
     "duration": 0.005076,
     "end_time": "2025-10-16T08:16:34.342182",
     "exception": false,
     "start_time": "2025-10-16T08:16:34.337106",
     "status": "completed"
    },
    "tags": []
   },
   "source": [
    "We can see that, for each of the metrics, the \"vanilla\" TabPFN estimator outperforms the default CatBoost classifier, both for probabilistic metrics as was as the for the dichotomized classification metrics.\n",
    "# Vizualizations of the results\n",
    "### ROC curve"
   ]
  },
  {
   "cell_type": "code",
   "execution_count": 13,
   "id": "30730b81",
   "metadata": {
    "execution": {
     "iopub.execute_input": "2025-10-16T08:16:34.354081Z",
     "iopub.status.busy": "2025-10-16T08:16:34.353604Z",
     "iopub.status.idle": "2025-10-16T08:16:34.598039Z",
     "shell.execute_reply": "2025-10-16T08:16:34.597328Z"
    },
    "papermill": {
     "duration": 0.251982,
     "end_time": "2025-10-16T08:16:34.599540",
     "exception": false,
     "start_time": "2025-10-16T08:16:34.347558",
     "status": "completed"
    },
    "tags": []
   },
   "outputs": [
    {
     "data": {
      "image/png": "[encoded data removed]",
      "text/plain": [
       "<Figure size 600x600 with 1 Axes>"
      ]
     },
     "metadata": {},
     "output_type": "display_data"
    }
   ],
   "source": [
    "from sklearn.metrics import RocCurveDisplay\n",
    "\n",
    "fig, ax = plt.subplots(figsize=(6, 6))\n",
    "RocCurveDisplay.from_predictions(y, CatBoost_prob, color=\"navy\", ax=ax, name=\"CatBoost\");\n",
    "RocCurveDisplay.from_predictions(y, TabPFN_prob, color=\"darkorange\", ax=ax, name=\"TabPFN\");"
   ]
  },
  {
   "cell_type": "markdown",
   "id": "7626e64d",
   "metadata": {
    "papermill": {
     "duration": 0.007235,
     "end_time": "2025-10-16T08:16:34.613713",
     "exception": false,
     "start_time": "2025-10-16T08:16:34.606478",
     "status": "completed"
    },
    "tags": []
   },
   "source": [
    "We see that the [ROC curve](https://en.wikipedia.org/wiki/Receiver_operating_characteristic) for TabPFN appears to be slightly superior to that of CatBoost.\n",
    "### Histograms of the probabilities\n",
    "The full range between 0 and 1"
   ]
  },
  {
   "cell_type": "code",
   "execution_count": 14,
   "id": "8268982b",
   "metadata": {
    "_kg_hide-input": true,
    "execution": {
     "iopub.execute_input": "2025-10-16T08:16:34.626978Z",
     "iopub.status.busy": "2025-10-16T08:16:34.626307Z",
     "iopub.status.idle": "2025-10-16T08:16:35.163861Z",
     "shell.execute_reply": "2025-10-16T08:16:35.163038Z"
    },
    "papermill": {
     "duration": 0.545311,
     "end_time": "2025-10-16T08:16:35.165076",
     "exception": false,
     "start_time": "2025-10-16T08:16:34.619765",
     "status": "completed"
    },
    "tags": []
   },
   "outputs": [
    {
     "data": {
      "image/png": "[encoded data removed]",
      "text/plain": [
       "<Figure size 1600x500 with 1 Axes>"
      ]
     },
     "metadata": {},
     "output_type": "display_data"
    }
   ],
   "source": [
    "fig, ax1 = plt.subplots()\n",
    "ax1.hist(TabPFN_prob,   range=[0,1], bins=150, density=True, color=\"darkorange\", alpha=0.8, label=\"TabPFN\")\n",
    "ax1.hist(CatBoost_prob, range=[0,1], bins=150, density=True, color=\"navy\", alpha=0.6, label=\"CatBoost\")\n",
    "plt.legend(loc='best')\n",
    "plt.show();"
   ]
  },
  {
   "cell_type": "markdown",
   "id": "d892d2f0",
   "metadata": {
    "papermill": {
     "duration": 0.006268,
     "end_time": "2025-10-16T08:16:35.178400",
     "exception": false,
     "start_time": "2025-10-16T08:16:35.172132",
     "status": "completed"
    },
    "tags": []
   },
   "source": [
    "and here we shall zoom in on the range between $p=0$ and $p=0.02$."
   ]
  },
  {
   "cell_type": "code",
   "execution_count": 15,
   "id": "802ceb1b",
   "metadata": {
    "_kg_hide-input": true,
    "execution": {
     "iopub.execute_input": "2025-10-16T08:16:35.192092Z",
     "iopub.status.busy": "2025-10-16T08:16:35.191842Z",
     "iopub.status.idle": "2025-10-16T08:16:35.645867Z",
     "shell.execute_reply": "2025-10-16T08:16:35.645091Z"
    },
    "papermill": {
     "duration": 0.462298,
     "end_time": "2025-10-16T08:16:35.647075",
     "exception": false,
     "start_time": "2025-10-16T08:16:35.184777",
     "status": "completed"
    },
    "tags": []
   },
   "outputs": [
    {
     "data": {
      "image/png": "[encoded data removed]",
      "text/plain": [
       "<Figure size 1600x500 with 1 Axes>"
      ]
     },
     "metadata": {},
     "output_type": "display_data"
    }
   ],
   "source": [
    "fig, ax1 = plt.subplots()\n",
    "ax1.hist(TabPFN_prob,   range=[0, 0.02], bins=100, density=True, color=\"darkorange\", alpha=0.8, label=\"TabPFN\")\n",
    "ax1.hist(CatBoost_prob, range=[0, 0.02], bins=100, density=True, color=\"navy\", alpha=0.6, label=\"CatBoost\")\n",
    "plt.legend(loc='best')\n",
    "plt.show();"
   ]
  },
  {
   "cell_type": "code",
   "execution_count": 16,
   "id": "90e2a84b",
   "metadata": {
    "_kg_hide-input": true,
    "execution": {
     "iopub.execute_input": "2025-10-16T08:16:35.662602Z",
     "iopub.status.busy": "2025-10-16T08:16:35.662130Z",
     "iopub.status.idle": "2025-10-16T08:16:36.121237Z",
     "shell.execute_reply": "2025-10-16T08:16:36.120407Z"
    },
    "papermill": {
     "duration": 0.467828,
     "end_time": "2025-10-16T08:16:36.122379",
     "exception": false,
     "start_time": "2025-10-16T08:16:35.654551",
     "status": "completed"
    },
    "tags": []
   },
   "outputs": [
    {
     "data": {
      "image/png": "[encoded data removed]",
      "text/plain": [
       "<Figure size 1600x500 with 1 Axes>"
      ]
     },
     "metadata": {},
     "output_type": "display_data"
    }
   ],
   "source": [
    "fig, ax1 = plt.subplots()\n",
    "ax1.hist(TabPFN_prob,   range=[0.8, 1], bins=100, density=True, color=\"darkorange\", alpha=0.8, label=\"TabPFN\")\n",
    "ax1.hist(CatBoost_prob, range=[0.8, 1], bins=100, density=True, color=\"navy\", alpha=0.6, label=\"CatBoost\")\n",
    "plt.legend(loc='best')\n",
    "plt.show();"
   ]
  },
  {
   "cell_type": "markdown",
   "id": "376aca8b",
   "metadata": {
    "papermill": {
     "duration": 0.007258,
     "end_time": "2025-10-16T08:16:36.137665",
     "exception": false,
     "start_time": "2025-10-16T08:16:36.130407",
     "status": "completed"
    },
    "tags": []
   },
   "source": [
    "We observe that perhaps the greatest difference is seen for probabilities approaching zero; TabPFN is much more confident about the negative class predictions.\n",
    "\n",
    "### Calibration\n",
    "Let us now look at how well the [predictions are calibrated](https://scikit-learn.org/stable/modules/calibration.html)"
   ]
  },
  {
   "cell_type": "code",
   "execution_count": 17,
   "id": "3aa4f04b",
   "metadata": {
    "execution": {
     "iopub.execute_input": "2025-10-16T08:16:36.153493Z",
     "iopub.status.busy": "2025-10-16T08:16:36.153253Z",
     "iopub.status.idle": "2025-10-16T08:16:46.627854Z",
     "shell.execute_reply": "2025-10-16T08:16:46.627128Z"
    },
    "papermill": {
     "duration": 10.484056,
     "end_time": "2025-10-16T08:16:46.629183",
     "exception": false,
     "start_time": "2025-10-16T08:16:36.145127",
     "status": "completed"
    },
    "tags": []
   },
   "outputs": [],
   "source": [
    "CatBoost_full_model = CatBoostClassifier.fit(X, y) # full fit\n",
    "CatBoost_prob_full = CatBoost_full_model.predict_proba(X_calibration)[:,1]"
   ]
  },
  {
   "cell_type": "code",
   "execution_count": 18,
   "id": "eee1c5cf",
   "metadata": {
    "execution": {
     "iopub.execute_input": "2025-10-16T08:16:46.645773Z",
     "iopub.status.busy": "2025-10-16T08:16:46.645298Z",
     "iopub.status.idle": "2025-10-16T08:17:03.664624Z",
     "shell.execute_reply": "2025-10-16T08:17:03.663830Z"
    },
    "papermill": {
     "duration": 17.028774,
     "end_time": "2025-10-16T08:17:03.666029",
     "exception": false,
     "start_time": "2025-10-16T08:16:46.637255",
     "status": "completed"
    },
    "tags": []
   },
   "outputs": [],
   "source": [
    "TabPFN_full_model = TabPFNClassifier.fit(X, y) # full fit\n",
    "TabPFN_prob_full = TabPFN_full_model.predict_proba(X_calibration)[:,1]"
   ]
  },
  {
   "cell_type": "code",
   "execution_count": 19,
   "id": "ef5cfb9b",
   "metadata": {
    "execution": {
     "iopub.execute_input": "2025-10-16T08:17:03.682889Z",
     "iopub.status.busy": "2025-10-16T08:17:03.682220Z",
     "iopub.status.idle": "2025-10-16T08:17:03.942344Z",
     "shell.execute_reply": "2025-10-16T08:17:03.941524Z"
    },
    "papermill": {
     "duration": 0.269403,
     "end_time": "2025-10-16T08:17:03.943508",
     "exception": false,
     "start_time": "2025-10-16T08:17:03.674105",
     "status": "completed"
    },
    "tags": []
   },
   "outputs": [
    {
     "data": {
      "image/png": "[encoded data removed]",
      "text/plain": [
       "<Figure size 600x600 with 1 Axes>"
      ]
     },
     "metadata": {},
     "output_type": "display_data"
    }
   ],
   "source": [
    "from sklearn.calibration import CalibrationDisplay\n",
    "\n",
    "fig, ax = plt.subplots(figsize=(6, 6))\n",
    "CalibrationDisplay.from_predictions(y_calibration, CatBoost_prob_full, color=\"navy\", ax=ax, name=\"CatBoost\", n_bins=5);\n",
    "CalibrationDisplay.from_predictions(y_calibration, TabPFN_prob_full, color=\"darkorange\", ax=ax, name=\"TabPFN\", n_bins=5);"
   ]
  },
  {
   "cell_type": "markdown",
   "id": "f28adb79",
   "metadata": {
    "papermill": {
     "duration": 0.008429,
     "end_time": "2025-10-16T08:17:03.961321",
     "exception": false,
     "start_time": "2025-10-16T08:17:03.952892",
     "status": "completed"
    },
    "tags": []
   },
   "source": [
    "We can see that both classifiers return fairly well calibrated probabilities out-of-the-box, although *post hoc* calibration is never a bad idea.\n",
    "# TabPFN related links\n",
    "* [Noah Hollmann, Samuel Müller, Lennart Purucker, Arjun Krishnakumar, Max Körfer, Shi Bin Hoo, Robin Tibor Schirrmeister, and Frank Hutter *\"Accurate predictions on small data with a tabular foundation model\"*, Nature **637** 319-326 (2025)](https://doi.org/10.1038/s41586-024-08328-6)\n",
    "* [Noah Hollmann, Samuel Müller, Katharina Eggensperger, Frank Hutter *\"TabPFN: A Transformer That Solves Small Tabular Classification Problems in a Second\"*, arXiv:2207.01848 (2022)](https://arxiv.org/pdf/2207.01848)\n",
    "* [TabPFN on GitHub](https://github.com/PriorLabs/TabPFN)"
   ]
  }
 ],
 "metadata": {
  "kaggle": {
   "accelerator": "nvidiaTeslaT4",
   "dataSources": [
    {
     "datasetId": 5626665,
     "sourceId": 9293783,
     "sourceType": "datasetVersion"
    }
   ],
   "dockerImageVersionId": 31154,
   "isGpuEnabled": true,
   "isInternetEnabled": true,
   "language": "python",
   "sourceType": "notebook"
  },
  "kernelspec": {
   "display_name": "Python 3",
   "language": "python",
   "name": "python3"
  },
  "language_info": {
   "codemirror_mode": {
    "name": "ipython",
    "version": 3
   },
   "file_extension": ".py",
   "mimetype": "text/x-python",
   "name": "python",
   "nbconvert_exporter": "python",
   "pygments_lexer": "ipython3",
   "version": "3.11.13"
  },
  "papermill": {
   "default_parameters": {},
   "duration": 229.20055,
   "end_time": "2025-10-16T08:17:06.608411",
   "environment_variables": {},
   "exception": null,
   "input_path": "__notebook__.ipynb",
   "output_path": "__notebook__.ipynb",
   "parameters": {},
   "start_time": "2025-10-16T08:13:17.407861",
   "version": "2.6.0"
  },
  "widgets": {
   "application/vnd.jupyter.widget-state+json": {
    "state": {
     "175eee4812674824afdaeea884aae28b": {
      "model_module": "@jupyter-widgets/controls",
      "model_module_version": "2.0.0",
      "model_name": "HBoxModel",
      "state": {
       "_dom_classes": [],
       "_model_module": "@jupyter-widgets/controls",
       "_model_module_version": "2.0.0",
       "_model_name": "HBoxModel",
       "_view_count": null,
       "_view_module": "@jupyter-widgets/controls",
       "_view_module_version": "2.0.0",
       "_view_name": "HBoxView",
       "box_style": "",
       "children": [
        "IPY_MODEL_6220251cfa1e41acb021062c406ac65e",
        "IPY_MODEL_a2c2ff08cf784533b8a775553218de8e",
        "IPY_MODEL_f920168297544d62b8bd9a7e031aa98b"
       ],
       "layout": "IPY_MODEL_417167b471834a5a8b3c9ed71e098fe7",
       "tabbable": null,
       "tooltip": null
      }
     },
     "2a4da32e4e26416b98fb40cdd2dfd5e3": {
      "model_module": "@jupyter-widgets/base",
      "model_module_version": "2.0.0",
      "model_name": "LayoutModel",
      "state": {
       "_model_module": "@jupyter-widgets/base",
       "_model_module_version": "2.0.0",
       "_model_name": "LayoutModel",
       "_view_count": null,
       "_view_module": "@jupyter-widgets/base",
       "_view_module_version": "2.0.0",
       "_view_name": "LayoutView",
       "align_content": null,
       "align_items": null,
       "align_self": null,
       "border_bottom": null,
       "border_left": null,
       "border_right": null,
       "border_top": null,
       "bottom": null,
       "display": null,
       "flex": null,
       "flex_flow": null,
       "grid_area": null,
       "grid_auto_columns": null,
       "grid_auto_flow": null,
       "grid_auto_rows": null,
       "grid_column": null,
       "grid_gap": null,
       "grid_row": null,
       "grid_template_areas": null,
       "grid_template_columns": null,
       "grid_template_rows": null,
       "height": null,
       "justify_content": null,
       "justify_items": null,
       "left": null,
       "margin": null,
       "max_height": null,
       "max_width": null,
       "min_height": null,
       "min_width": null,
       "object_fit": null,
       "object_position": null,
       "order": null,
       "overflow": null,
       "padding": null,
       "right": null,
       "top": null,
       "visibility": null,
       "width": null
      }
     },
     "3589ac88e3204926be6e7125de080d52": {
      "model_module": "@jupyter-widgets/controls",
      "model_module_version": "2.0.0",
      "model_name": "HTMLModel",
      "state": {
       "_dom_classes": [],
       "_model_module": "@jupyter-widgets/controls",
       "_model_module_version": "2.0.0",
       "_model_name": "HTMLModel",
       "_view_count": null,
       "_view_module": "@jupyter-widgets/controls",
       "_view_module_version": "2.0.0",
       "_view_name": "HTMLView",
       "description": "",
       "description_allow_html": false,
       "layout": "IPY_MODEL_769ffd1452914754b6b0416961289f35",
       "placeholder": "​",
       "style": "IPY_MODEL_7fbb0356411b439fbf040aab06facc28",
       "tabbable": null,
       "tooltip": null,
       "value": "tabpfn-v2-classifier-finetuned-zk73skhh.(…): 100%"
      }
     },
     "417167b471834a5a8b3c9ed71e098fe7": {
      "model_module": "@jupyter-widgets/base",
      "model_module_version": "2.0.0",
      "model_name": "LayoutModel",
      "state": {
       "_model_module": "@jupyter-widgets/base",
       "_model_module_version": "2.0.0",
       "_model_name": "LayoutModel",
       "_view_count": null,
       "_view_module": "@jupyter-widgets/base",
       "_view_module_version": "2.0.0",
       "_view_name": "LayoutView",
       "align_content": null,
       "align_items": null,
       "align_self": null,
       "border_bottom": null,
       "border_left": null,
       "border_right": null,
       "border_top": null,
       "bottom": null,
       "display": null,
       "flex": null,
       "flex_flow": null,
       "grid_area": null,
       "grid_auto_columns": null,
       "grid_auto_flow": null,
       "grid_auto_rows": null,
       "grid_column": null,
       "grid_gap": null,
       "grid_row": null,
       "grid_template_areas": null,
       "grid_template_columns": null,
       "grid_template_rows": null,
       "height": null,
       "justify_content": null,
       "justify_items": null,
       "left": null,
       "margin": null,
       "max_height": null,
       "max_width": null,
       "min_height": null,
       "min_width": null,
       "object_fit": null,
       "object_position": null,
       "order": null,
       "overflow": null,
       "padding": null,
       "right": null,
       "top": null,
       "visibility": null,
       "width": null
      }
     },
     "45d3a4a0cf9e40e1b9febd8056d4f252": {
      "model_module": "@jupyter-widgets/base",
      "model_module_version": "2.0.0",
      "model_name": "LayoutModel",
      "state": {
       "_model_module": "@jupyter-widgets/base",
       "_model_module_version": "2.0.0",
       "_model_name": "LayoutModel",
       "_view_count": null,
       "_view_module": "@jupyter-widgets/base",
       "_view_module_version": "2.0.0",
       "_view_name": "LayoutView",
       "align_content": null,
       "align_items": null,
       "align_self": null,
       "border_bottom": null,
       "border_left": null,
       "border_right": null,
       "border_top": null,
       "bottom": null,
       "display": null,
       "flex": null,
       "flex_flow": null,
       "grid_area": null,
       "grid_auto_columns": null,
       "grid_auto_flow": null,
       "grid_auto_rows": null,
       "grid_column": null,
       "grid_gap": null,
       "grid_row": null,
       "grid_template_areas": null,
       "grid_template_columns": null,
       "grid_template_rows": null,
       "height": null,
       "justify_content": null,
       "justify_items": null,
       "left": null,
       "margin": null,
       "max_height": null,
       "max_width": null,
       "min_height": null,
       "min_width": null,
       "object_fit": null,
       "object_position": null,
       "order": null,
       "overflow": null,
       "padding": null,
       "right": null,
       "top": null,
       "visibility": null,
       "width": null
      }
     },
     "4f8111ecdc084ebd9b98e29752782df0": {
      "model_module": "@jupyter-widgets/controls",
      "model_module_version": "2.0.0",
      "model_name": "HTMLStyleModel",
      "state": {
       "_model_module": "@jupyter-widgets/controls",
       "_model_module_version": "2.0.0",
       "_model_name": "HTMLStyleModel",
       "_view_count": null,
       "_view_module": "@jupyter-widgets/base",
       "_view_module_version": "2.0.0",
       "_view_name": "StyleView",
       "background": null,
       "description_width": "",
       "font_size": null,
       "text_color": null
      }
     },
     "584abe961b11446486b4a218ff882850": {
      "model_module": "@jupyter-widgets/controls",
      "model_module_version": "2.0.0",
      "model_name": "HTMLStyleModel",
      "state": {
       "_model_module": "@jupyter-widgets/controls",
       "_model_module_version": "2.0.0",
       "_model_name": "HTMLStyleModel",
       "_view_count": null,
       "_view_module": "@jupyter-widgets/base",
       "_view_module_version": "2.0.0",
       "_view_name": "StyleView",
       "background": null,
       "description_width": "",
       "font_size": null,
       "text_color": null
      }
     },
     "605c202be631493cac635ad523b879b5": {
      "model_module": "@jupyter-widgets/controls",
      "model_module_version": "2.0.0",
      "model_name": "HTMLStyleModel",
      "state": {
       "_model_module": "@jupyter-widgets/controls",
       "_model_module_version": "2.0.0",
       "_model_name": "HTMLStyleModel",
       "_view_count": null,
       "_view_module": "@jupyter-widgets/base",
       "_view_module_version": "2.0.0",
       "_view_name": "StyleView",
       "background": null,
       "description_width": "",
       "font_size": null,
       "text_color": null
      }
     },
     "6220251cfa1e41acb021062c406ac65e": {
      "model_module": "@jupyter-widgets/controls",
      "model_module_version": "2.0.0",
      "model_name": "HTMLModel",
      "state": {
       "_dom_classes": [],
       "_model_module": "@jupyter-widgets/controls",
       "_model_module_version": "2.0.0",
       "_model_name": "HTMLModel",
       "_view_count": null,
       "_view_module": "@jupyter-widgets/controls",
       "_view_module_version": "2.0.0",
       "_view_name": "HTMLView",
       "description": "",
       "description_allow_html": false,
       "layout": "IPY_MODEL_df850fe584a341cfb679f415c415eb83",
       "placeholder": "​",
       "style": "IPY_MODEL_605c202be631493cac635ad523b879b5",
       "tabbable": null,
       "tooltip": null,
       "value": "config.json: 100%"
      }
     },
     "769ffd1452914754b6b0416961289f35": {
      "model_module": "@jupyter-widgets/base",
      "model_module_version": "2.0.0",
      "model_name": "LayoutModel",
      "state": {
       "_model_module": "@jupyter-widgets/base",
       "_model_module_version": "2.0.0",
       "_model_name": "LayoutModel",
       "_view_count": null,
       "_view_module": "@jupyter-widgets/base",
       "_view_module_version": "2.0.0",
       "_view_name": "LayoutView",
       "align_content": null,
       "align_items": null,
       "align_self": null,
       "border_bottom": null,
       "border_left": null,
       "border_right": null,
       "border_top": null,
       "bottom": null,
       "display": null,
       "flex": null,
       "flex_flow": null,
       "grid_area": null,
       "grid_auto_columns": null,
       "grid_auto_flow": null,
       "grid_auto_rows": null,
       "grid_column": null,
       "grid_gap": null,
       "grid_row": null,
       "grid_template_areas": null,
       "grid_template_columns": null,
       "grid_template_rows": null,
       "height": null,
       "justify_content": null,
       "justify_items": null,
       "left": null,
       "margin": null,
       "max_height": null,
       "max_width": null,
       "min_height": null,
       "min_width": null,
       "object_fit": null,
       "object_position": null,
       "order": null,
       "overflow": null,
       "padding": null,
       "right": null,
       "top": null,
       "visibility": null,
       "width": null
      }
     },
     "7f9b40b680934562ba0165176a927fcb": {
      "model_module": "@jupyter-widgets/base",
      "model_module_version": "2.0.0",
      "model_name": "LayoutModel",
      "state": {
       "_model_module": "@jupyter-widgets/base",
       "_model_module_version": "2.0.0",
       "_model_name": "LayoutModel",
       "_view_count": null,
       "_view_module": "@jupyter-widgets/base",
       "_view_module_version": "2.0.0",
       "_view_name": "LayoutView",
       "align_content": null,
       "align_items": null,
       "align_self": null,
       "border_bottom": null,
       "border_left": null,
       "border_right": null,
       "border_top": null,
       "bottom": null,
       "display": null,
       "flex": null,
       "flex_flow": null,
       "grid_area": null,
       "grid_auto_columns": null,
       "grid_auto_flow": null,
       "grid_auto_rows": null,
       "grid_column": null,
       "grid_gap": null,
       "grid_row": null,
       "grid_template_areas": null,
       "grid_template_columns": null,
       "grid_template_rows": null,
       "height": null,
       "justify_content": null,
       "justify_items": null,
       "left": null,
       "margin": null,
       "max_height": null,
       "max_width": null,
       "min_height": null,
       "min_width": null,
       "object_fit": null,
       "object_position": null,
       "order": null,
       "overflow": null,
       "padding": null,
       "right": null,
       "top": null,
       "visibility": null,
       "width": null
      }
     },
     "7fbb0356411b439fbf040aab06facc28": {
      "model_module": "@jupyter-widgets/controls",
      "model_module_version": "2.0.0",
      "model_name": "HTMLStyleModel",
      "state": {
       "_model_module": "@jupyter-widgets/controls",
       "_model_module_version": "2.0.0",
       "_model_name": "HTMLStyleModel",
       "_view_count": null,
       "_view_module": "@jupyter-widgets/base",
       "_view_module_version": "2.0.0",
       "_view_name": "StyleView",
       "background": null,
       "description_width": "",
       "font_size": null,
       "text_color": null
      }
     },
     "a2c2ff08cf784533b8a775553218de8e": {
      "model_module": "@jupyter-widgets/controls",
      "model_module_version": "2.0.0",
      "model_name": "FloatProgressModel",
      "state": {
       "_dom_classes": [],
       "_model_module": "@jupyter-widgets/controls",
       "_model_module_version": "2.0.0",
       "_model_name": "FloatProgressModel",
       "_view_count": null,
       "_view_module": "@jupyter-widgets/controls",
       "_view_module_version": "2.0.0",
       "_view_name": "ProgressView",
       "bar_style": "success",
       "description": "",
       "description_allow_html": false,
       "layout": "IPY_MODEL_ac89bf3fc287406fb938d5459a707fe8",
       "max": 37.0,
       "min": 0.0,
       "orientation": "horizontal",
       "style": "IPY_MODEL_f7b12b1c814a49989c841ee7fcb73799",
       "tabbable": null,
       "tooltip": null,
       "value": 37.0
      }
     },
     "ac89bf3fc287406fb938d5459a707fe8": {
      "model_module": "@jupyter-widgets/base",
      "model_module_version": "2.0.0",
      "model_name": "LayoutModel",
      "state": {
       "_model_module": "@jupyter-widgets/base",
       "_model_module_version": "2.0.0",
       "_model_name": "LayoutModel",
       "_view_count": null,
       "_view_module": "@jupyter-widgets/base",
       "_view_module_version": "2.0.0",
       "_view_name": "LayoutView",
       "align_content": null,
       "align_items": null,
       "align_self": null,
       "border_bottom": null,
       "border_left": null,
       "border_right": null,
       "border_top": null,
       "bottom": null,
       "display": null,
       "flex": null,
       "flex_flow": null,
       "grid_area": null,
       "grid_auto_columns": null,
       "grid_auto_flow": null,
       "grid_auto_rows": null,
       "grid_column": null,
       "grid_gap": null,
       "grid_row": null,
       "grid_template_areas": null,
       "grid_template_columns": null,
       "grid_template_rows": null,
       "height": null,
       "justify_content": null,
       "justify_items": null,
       "left": null,
       "margin": null,
       "max_height": null,
       "max_width": null,
       "min_height": null,
       "min_width": null,
       "object_fit": null,
       "object_position": null,
       "order": null,
       "overflow": null,
       "padding": null,
       "right": null,
       "top": null,
       "visibility": null,
       "width": null
      }
     },
     "b9ad276d7a044e34aae5382f12612562": {
      "model_module": "@jupyter-widgets/base",
      "model_module_version": "2.0.0",
      "model_name": "LayoutModel",
      "state": {
       "_model_module": "@jupyter-widgets/base",
       "_model_module_version": "2.0.0",
       "_model_name": "LayoutModel",
       "_view_count": null,
       "_view_module": "@jupyter-widgets/base",
       "_view_module_version": "2.0.0",
       "_view_name": "LayoutView",
       "align_content": null,
       "align_items": null,
       "align_self": null,
       "border_bottom": null,
       "border_left": null,
       "border_right": null,
       "border_top": null,
       "bottom": null,
       "display": null,
       "flex": null,
       "flex_flow": null,
       "grid_area": null,
       "grid_auto_columns": null,
       "grid_auto_flow": null,
       "grid_auto_rows": null,
       "grid_column": null,
       "grid_gap": null,
       "grid_row": null,
       "grid_template_areas": null,
       "grid_template_columns": null,
       "grid_template_rows": null,
       "height": null,
       "justify_content": null,
       "justify_items": null,
       "left": null,
       "margin": null,
       "max_height": null,
       "max_width": null,
       "min_height": null,
       "min_width": null,
       "object_fit": null,
       "object_position": null,
       "order": null,
       "overflow": null,
       "padding": null,
       "right": null,
       "top": null,
       "visibility": null,
       "width": null
      }
     },
     "c104aaecb60d448bb146cb819ca5f2b8": {
      "model_module": "@jupyter-widgets/controls",
      "model_module_version": "2.0.0",
      "model_name": "HBoxModel",
      "state": {
       "_dom_classes": [],
       "_model_module": "@jupyter-widgets/controls",
       "_model_module_version": "2.0.0",
       "_model_name": "HBoxModel",
       "_view_count": null,
       "_view_module": "@jupyter-widgets/controls",
       "_view_module_version": "2.0.0",
       "_view_name": "HBoxView",
       "box_style": "",
       "children": [
        "IPY_MODEL_3589ac88e3204926be6e7125de080d52",
        "IPY_MODEL_da0d9679a451499598d941dcefe56527",
        "IPY_MODEL_fa52cb2b5fc0470bb717263feaff8987"
       ],
       "layout": "IPY_MODEL_b9ad276d7a044e34aae5382f12612562",
       "tabbable": null,
       "tooltip": null
      }
     },
     "da0d9679a451499598d941dcefe56527": {
      "model_module": "@jupyter-widgets/controls",
      "model_module_version": "2.0.0",
      "model_name": "FloatProgressModel",
      "state": {
       "_dom_classes": [],
       "_model_module": "@jupyter-widgets/controls",
       "_model_module_version": "2.0.0",
       "_model_name": "FloatProgressModel",
       "_view_count": null,
       "_view_module": "@jupyter-widgets/controls",
       "_view_module_version": "2.0.0",
       "_view_name": "ProgressView",
       "bar_style": "success",
       "description": "",
       "description_allow_html": false,
       "layout": "IPY_MODEL_45d3a4a0cf9e40e1b9febd8056d4f252",
       "max": 29009539.0,
       "min": 0.0,
       "orientation": "horizontal",
       "style": "IPY_MODEL_f8d137b09de64eaebc2be2b5a15965fc",
       "tabbable": null,
       "tooltip": null,
       "value": 29009539.0
      }
     },
     "df850fe584a341cfb679f415c415eb83": {
      "model_module": "@jupyter-widgets/base",
      "model_module_version": "2.0.0",
      "model_name": "LayoutModel",
      "state": {
       "_model_module": "@jupyter-widgets/base",
       "_model_module_version": "2.0.0",
       "_model_name": "LayoutModel",
       "_view_count": null,
       "_view_module": "@jupyter-widgets/base",
       "_view_module_version": "2.0.0",
       "_view_name": "LayoutView",
       "align_content": null,
       "align_items": null,
       "align_self": null,
       "border_bottom": null,
       "border_left": null,
       "border_right": null,
       "border_top": null,
       "bottom": null,
       "display": null,
       "flex": null,
       "flex_flow": null,
       "grid_area": null,
       "grid_auto_columns": null,
       "grid_auto_flow": null,
       "grid_auto_rows": null,
       "grid_column": null,
       "grid_gap": null,
       "grid_row": null,
       "grid_template_areas": null,
       "grid_template_columns": null,
       "grid_template_rows": null,
       "height": null,
       "justify_content": null,
       "justify_items": null,
       "left": null,
       "margin": null,
       "max_height": null,
       "max_width": null,
       "min_height": null,
       "min_width": null,
       "object_fit": null,
       "object_position": null,
       "order": null,
       "overflow": null,
       "padding": null,
       "right": null,
       "top": null,
       "visibility": null,
       "width": null
      }
     },
     "f7b12b1c814a49989c841ee7fcb73799": {
      "model_module": "@jupyter-widgets/controls",
      "model_module_version": "2.0.0",
      "model_name": "ProgressStyleModel",
      "state": {
       "_model_module": "@jupyter-widgets/controls",
       "_model_module_version": "2.0.0",
       "_model_name": "ProgressStyleModel",
       "_view_count": null,
       "_view_module": "@jupyter-widgets/base",
       "_view_module_version": "2.0.0",
       "_view_name": "StyleView",
       "bar_color": null,
       "description_width": ""
      }
     },
     "f8d137b09de64eaebc2be2b5a15965fc": {
      "model_module": "@jupyter-widgets/controls",
      "model_module_version": "2.0.0",
      "model_name": "ProgressStyleModel",
      "state": {
       "_model_module": "@jupyter-widgets/controls",
       "_model_module_version": "2.0.0",
       "_model_name": "ProgressStyleModel",
       "_view_count": null,
       "_view_module": "@jupyter-widgets/base",
       "_view_module_version": "2.0.0",
       "_view_name": "StyleView",
       "bar_color": null,
       "description_width": ""
      }
     },
     "f920168297544d62b8bd9a7e031aa98b": {
      "model_module": "@jupyter-widgets/controls",
      "model_module_version": "2.0.0",
      "model_name": "HTMLModel",
      "state": {
       "_dom_classes": [],
       "_model_module": "@jupyter-widgets/controls",
       "_model_module_version": "2.0.0",
       "_model_name": "HTMLModel",
       "_view_count": null,
       "_view_module": "@jupyter-widgets/controls",
       "_view_module_version": "2.0.0",
       "_view_name": "HTMLView",
       "description": "",
       "description_allow_html": false,
       "layout": "IPY_MODEL_2a4da32e4e26416b98fb40cdd2dfd5e3",
       "placeholder": "​",
       "style": "IPY_MODEL_4f8111ecdc084ebd9b98e29752782df0",
       "tabbable": null,
       "tooltip": null,
       "value": " 37.0/37.0 [00:00&lt;00:00, 5.17kB/s]"
      }
     },
     "fa52cb2b5fc0470bb717263feaff8987": {
      "model_module": "@jupyter-widgets/controls",
      "model_module_version": "2.0.0",
      "model_name": "HTMLModel",
      "state": {
       "_dom_classes": [],
       "_model_module": "@jupyter-widgets/controls",
       "_model_module_version": "2.0.0",
       "_model_name": "HTMLModel",
       "_view_count": null,
       "_view_module": "@jupyter-widgets/controls",
       "_view_module_version": "2.0.0",
       "_view_name": "HTMLView",
       "description": "",
       "description_allow_html": false,
       "layout": "IPY_MODEL_7f9b40b680934562ba0165176a927fcb",
       "placeholder": "​",
       "style": "IPY_MODEL_584abe961b11446486b4a218ff882850",
       "tabbable": null,
       "tooltip": null,
       "value": " 29.0M/29.0M [00:00&lt;00:00, 35.4MB/s]"
      }
     }
    },
    "version_major": 2,
    "version_minor": 0
   }
  }
 },
 "nbformat": 4,
 "nbformat_minor": 5
}
